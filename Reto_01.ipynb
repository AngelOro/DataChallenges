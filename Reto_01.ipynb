{
  "nbformat": 4,
  "nbformat_minor": 0,
  "metadata": {
    "colab": {
      "name": "Reto 01.ipynb",
      "provenance": [],
      "authorship_tag": "ABX9TyO3K8m6BRxKiXrVhggsBIK8",
      "include_colab_link": true
    },
    "kernelspec": {
      "name": "python3",
      "display_name": "Python 3"
    }
  },
  "cells": [
    {
      "cell_type": "markdown",
      "metadata": {
        "id": "view-in-github",
        "colab_type": "text"
      },
      "source": [
        "<a href=\"https://colab.research.google.com/github/AngelOro/DataChallenges/blob/main/Reto_01.ipynb\" target=\"_parent\"><img src=\"https://colab.research.google.com/assets/colab-badge.svg\" alt=\"Open In Colab\"/></a>"
      ]
    },
    {
      "cell_type": "code",
      "metadata": {
        "id": "_FvL6pH-H518"
      },
      "source": [
        "#Python If-Else\r\n",
        "\r\n",
        "import math\r\n",
        "import os\r\n",
        "import random\r\n",
        "import re\r\n",
        "import sys\r\n",
        "\r\n",
        "\r\n",
        "\r\n",
        "if __name__ == '__main__':\r\n",
        "    n = int(input().strip())\r\n",
        "    if((n%2 != 0) | (n>=6) & (n<=20)):\r\n",
        "        print(\"Weird\")\r\n",
        "    else:\r\n",
        "        print(\"Not Weird\")\r\n",
        "    \r\n"
      ],
      "execution_count": null,
      "outputs": []
    },
    {
      "cell_type": "code",
      "metadata": {
        "id": "UDkhpJDtIITG"
      },
      "source": [
        "#The Minion Game\r\n",
        "\r\n",
        "def minion_game(string):\r\n",
        "    Stuart, Kevin = 0, 0;\r\n",
        "    vocales = ['A','E','I','O','U'];\r\n",
        "    cantLetras = len(string);\r\n",
        "    for i in range(cantLetras):\r\n",
        "        puntaje = cantLetras - i\r\n",
        "        if string[i] in vocales:\r\n",
        "            Kevin += puntaje\r\n",
        "        else:\r\n",
        "            Stuart += puntaje\r\n",
        "    if Stuart == Kevin:\r\n",
        "        print('Draw')\r\n",
        "    if Stuart > Kevin:\r\n",
        "        print('Stuart '+ str(Stuart))\r\n",
        "    if Stuart < Kevin:\r\n",
        "        print('Kevin '+ str(Kevin))\r\n",
        "    \r\n",
        "\r\n",
        "if __name__ == '__main__':\r\n",
        "    s = input()\r\n",
        "    minion_game(s)"
      ],
      "execution_count": null,
      "outputs": []
    }
  ]
}